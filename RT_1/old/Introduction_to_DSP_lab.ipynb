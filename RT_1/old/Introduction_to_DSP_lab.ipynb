{
  "cells": [
    {
      "cell_type": "markdown",
      "metadata": {
        "id": "9LKNVF95L3Dt"
      },
      "source": [
        "# Базовые числовые типы языка Python"
      ]
    },
    {
      "cell_type": "markdown",
      "metadata": {
        "id": "s9Hguw6BL-8H"
      },
      "source": [
        "**int** - целые числа"
      ]
    },
    {
      "cell_type": "code",
      "execution_count": 6,
      "metadata": {
        "colab": {
          "base_uri": "https://localhost:8080/"
        },
        "id": "SOdE8cGfL1wO",
        "outputId": "0e939b1e-2954-466c-c8e6-bf34c7bfa847"
      },
      "outputs": [
        {
          "name": "stdout",
          "output_type": "stream",
          "text": [
            "5\n",
            "<class 'int'>\n"
          ]
        }
      ],
      "source": [
        "a=5\n",
        "print(a)\n",
        "print(type(a))"
      ]
    },
    {
      "cell_type": "markdown",
      "metadata": {
        "id": "sID7PVgbNL12"
      },
      "source": [
        "Интерпретатор сам подобрал тип переменной."
      ]
    },
    {
      "cell_type": "code",
      "execution_count": null,
      "metadata": {
        "colab": {
          "base_uri": "https://localhost:8080/"
        },
        "id": "lX2t3u2MMuNM",
        "outputId": "b822cb5f-95a7-4c2a-9980-7349150a19b0"
      },
      "outputs": [
        {
          "name": "stdout",
          "output_type": "stream",
          "text": [
            "314159265358979323846264338327950288419716939937510\n",
            "<class 'int'>\n"
          ]
        }
      ],
      "source": [
        "a=314159265358979323846264338327950288419716939937510\n",
        "print(a)\n",
        "print(type(a))"
      ]
    },
    {
      "cell_type": "markdown",
      "metadata": {
        "id": "DMlOj0wpNVXW"
      },
      "source": [
        "Числа типа int могут быть достаточно большими, однако должно быть достаточно памяти для их хранения. "
      ]
    },
    {
      "cell_type": "markdown",
      "metadata": {
        "id": "ZQqCNrHiMsVX"
      },
      "source": [
        "**float** - вещественные числа"
      ]
    },
    {
      "cell_type": "code",
      "execution_count": null,
      "metadata": {
        "colab": {
          "base_uri": "https://localhost:8080/"
        },
        "id": "ZaLoh5OcPri0",
        "outputId": "0687e98a-928d-4852-971f-f47a4c1db47e"
      },
      "outputs": [
        {
          "name": "stdout",
          "output_type": "stream",
          "text": [
            "5.0\n",
            "<class 'float'>\n",
            "<class 'int'>\n"
          ]
        }
      ],
      "source": [
        "a=5.0\n",
        "print(a)\n",
        "print(type(a))\n",
        "b=int(a)\n",
        "print(type(b))"
      ]
    },
    {
      "cell_type": "code",
      "execution_count": null,
      "metadata": {
        "colab": {
          "base_uri": "https://localhost:8080/"
        },
        "id": "BCETydbrMLQ3",
        "outputId": "b60edcb2-e55b-4335-a648-67f6588ecc1b"
      },
      "outputs": [
        {
          "name": "stdout",
          "output_type": "stream",
          "text": [
            "3.14159\n",
            "<class 'float'>\n"
          ]
        }
      ],
      "source": [
        "a=3.14159\n",
        "print(a)\n",
        "print(type(a))"
      ]
    },
    {
      "cell_type": "markdown",
      "metadata": {
        "id": "i6XaIZ0CN14u"
      },
      "source": [
        "В Python используется динамическая типизация, по этой причине мы смоги поменять тип данных для переменной с именем `a`"
      ]
    },
    {
      "cell_type": "code",
      "execution_count": null,
      "metadata": {
        "colab": {
          "base_uri": "https://localhost:8080/"
        },
        "id": "QMI14wHeOWMt",
        "outputId": "349c34b5-22f8-4b0c-8128-27d1709b8c63"
      },
      "outputs": [
        {
          "name": "stdout",
          "output_type": "stream",
          "text": [
            "2500000.0\n"
          ]
        }
      ],
      "source": [
        "a=2.5e6\n",
        "print(a)"
      ]
    },
    {
      "cell_type": "markdown",
      "metadata": {
        "id": "vG1JVqJ2OGBf"
      },
      "source": [
        "**complex** - комплексные числа. Название переменной не может начинаться с цифры, запись `1j` означает мнимую единицу.\n"
      ]
    },
    {
      "cell_type": "code",
      "execution_count": null,
      "metadata": {
        "colab": {
          "base_uri": "https://localhost:8080/"
        },
        "id": "BsTpNPyUOi-O",
        "outputId": "5e639e3e-f394-4b82-ba7b-258914ac168f"
      },
      "outputs": [
        {
          "name": "stdout",
          "output_type": "stream",
          "text": [
            "(5+1j)\n",
            "5.0\n",
            "1.0\n"
          ]
        }
      ],
      "source": [
        "a = 5+1j\n",
        "print(a)\n",
        "print(a.real)\n",
        "print(a.imag)"
      ]
    },
    {
      "cell_type": "code",
      "execution_count": null,
      "metadata": {
        "colab": {
          "base_uri": "https://localhost:8080/"
        },
        "id": "5eP68VBpPl-v",
        "outputId": "d057fe4c-b1f0-4171-dda3-d02fbeca0385"
      },
      "outputs": [
        {
          "name": "stdout",
          "output_type": "stream",
          "text": [
            "(5+1.4j)\n",
            "5.0\n",
            "1.4\n"
          ]
        }
      ],
      "source": [
        "a = 5+1.4j\n",
        "print(a)\n",
        "print(a.real)\n",
        "print(a.imag)"
      ]
    },
    {
      "cell_type": "markdown",
      "metadata": {
        "id": "KuVmaGFCQJlF"
      },
      "source": [
        "Числовые переменные поддерживают набор базовых операций, таких как сложение `+`, вычитание `-`, умножение `*`, деление `/`, нахождение частного от деления `//`, отстатка от деления `%`, возведение в степень `**`.\n",
        "\n",
        "\n",
        "\n"
      ]
    },
    {
      "cell_type": "markdown",
      "metadata": {
        "id": "sZNePe4yRbzZ"
      },
      "source": [
        "# Импорт библиотек"
      ]
    },
    {
      "cell_type": "code",
      "execution_count": null,
      "metadata": {
        "id": "6vzjoEbwPOo-"
      },
      "outputs": [],
      "source": [
        "import numpy as np\n",
        "import matplotlib.pyplot as plt\n",
        "from scipy.fft import *\n",
        "from scipy.signal import *"
      ]
    },
    {
      "cell_type": "markdown",
      "metadata": {
        "id": "jeBKBB2lq-J7"
      },
      "source": [
        "`import` <библиотека> `as` <имя> — этот код позволяет присоединять библиотеки (или функции) к проекту и вызывать их по данному имени, например более короткому или более удобному.    \n",
        "Например общепринято библиотеку `numpy` именовать как `np`. NumPy это одна из основных библиотек, которая позволяет работать с большими многомерными массивами и матрицами, а также добавляет много быстрых высокоуровневых математических функций, для работы с этими массивами. Чуть более подробно будет рассмотрено ниже.\n",
        "\n",
        "`from` <библиотека> `import` <имя> — эта запись добавляет из библиотеки (или модуля) в проект конкретный модуль (или функцию). Если поставить *, то будут подгружены все функции этого модуля."
      ]
    },
    {
      "cell_type": "markdown",
      "metadata": {
        "id": "yY0yZaYDTxEw"
      },
      "source": [
        "Задание последовательности отсчетов можно осуществить в виде одномерных массивов numpy"
      ]
    },
    {
      "cell_type": "markdown",
      "metadata": {
        "id": "728ura9dz3To"
      },
      "source": [
        "# Различные способы задания одномерного массива в Numpy"
      ]
    },
    {
      "cell_type": "code",
      "execution_count": 8,
      "metadata": {
        "id": "rQUwMuaUPOBO"
      },
      "outputs": [],
      "source": [
        "import numpy as np"
      ]
    },
    {
      "cell_type": "markdown",
      "metadata": {
        "id": "R4nwLiqZzRme"
      },
      "source": [
        "Самый простой способ создать массив, это обратиться к функции из библиотеки `NumPy` `array()`.   \n"
      ]
    },
    {
      "cell_type": "code",
      "execution_count": 9,
      "metadata": {
        "colab": {
          "base_uri": "https://localhost:8080/"
        },
        "id": "XgngyinXP8hX",
        "outputId": "ee4533af-b152-4147-a844-4c8674be9a5e"
      },
      "outputs": [
        {
          "data": {
            "text/plain": [
              "array([1, 2, 3, 4])"
            ]
          },
          "execution_count": 9,
          "metadata": {},
          "output_type": "execute_result"
        }
      ],
      "source": [
        "x=np.array([1, 2, 3, 4])\n",
        "x"
      ]
    },
    {
      "cell_type": "markdown",
      "metadata": {
        "id": "PAl3j8ox7onX"
      },
      "source": [
        "Если известен точно шаг последовательности, то ее можно задать с помощью функции `arange()` из библиотеки `numpy`. Где `start` это первый элемент последовательности, `stop` это элемент который ограничивает последовательность (сам элемент в нее не включается) и `step` это шаг последовательности, т.е. разница между двумя соседними элементами."
      ]
    },
    {
      "cell_type": "code",
      "execution_count": null,
      "metadata": {
        "colab": {
          "base_uri": "https://localhost:8080/"
        },
        "id": "iR8Z4ioNRgwv",
        "outputId": "89377be7-c7d7-4eed-d9df-b307d13c8603"
      },
      "outputs": [
        {
          "data": {
            "text/plain": [
              "array([ 1,  2,  3,  4,  5,  6,  7,  8,  9, 10])"
            ]
          },
          "execution_count": 11,
          "metadata": {},
          "output_type": "execute_result"
        }
      ],
      "source": [
        "x=np.arange(start=1, stop=11, step=1)\n",
        "x"
      ]
    },
    {
      "cell_type": "markdown",
      "metadata": {
        "id": "p9RRZ9Kn1-dz"
      },
      "source": [
        "Существует способ создать массив нулевых элементов."
      ]
    },
    {
      "cell_type": "code",
      "execution_count": null,
      "metadata": {
        "colab": {
          "base_uri": "https://localhost:8080/"
        },
        "id": "NxkDEtR9x8lp",
        "outputId": "3821db20-e364-4aba-80e0-a5db515128a2"
      },
      "outputs": [
        {
          "data": {
            "text/plain": [
              "array([0., 0., 0., 0., 0.])"
            ]
          },
          "execution_count": 14,
          "metadata": {},
          "output_type": "execute_result"
        }
      ],
      "source": [
        "x=np.zeros(5)\n",
        "x"
      ]
    },
    {
      "cell_type": "code",
      "execution_count": null,
      "metadata": {
        "colab": {
          "base_uri": "https://localhost:8080/"
        },
        "id": "c24RkvQTRbmz",
        "outputId": "9b00b035-267e-4287-c474-45aaae67c0bb"
      },
      "outputs": [
        {
          "data": {
            "text/plain": [
              "array([0.+0.j, 0.+0.j, 0.+0.j, 0.+0.j, 0.+0.j])"
            ]
          },
          "execution_count": 13,
          "metadata": {},
          "output_type": "execute_result"
        }
      ],
      "source": [
        "x=np.zeros(5, dtype=complex)\n",
        "x"
      ]
    },
    {
      "cell_type": "markdown",
      "metadata": {
        "id": "iwBSIcqc2ja5"
      },
      "source": [
        "Следующий пример демонстрирует создание массива единиц."
      ]
    },
    {
      "cell_type": "code",
      "execution_count": null,
      "metadata": {
        "colab": {
          "base_uri": "https://localhost:8080/"
        },
        "id": "dxSujuORTfaA",
        "outputId": "191a63cb-d6bd-4dd5-ea71-0a54e3d46bea"
      },
      "outputs": [
        {
          "data": {
            "text/plain": [
              "array([1., 1., 1., 1., 1.])"
            ]
          },
          "execution_count": 15,
          "metadata": {},
          "output_type": "execute_result"
        }
      ],
      "source": [
        "x=np.ones(5)\n",
        "x"
      ]
    },
    {
      "cell_type": "markdown",
      "metadata": {
        "id": "TRiTialW2xy_"
      },
      "source": [
        "Часто требуется создать массив, заполненый случайными числами. `np.random.rand()` создает массив случайных чисел с равномерным распределением от 0 до 1. Можно например создавать массив случайных чисел с нормальным распределением. Для этого нужно использовать функцию `np.random.randn()`. Более подробно об этих  возможностях описано [здесь](https://numpy.org/doc/stable/reference/random/index.html#quick-start)."
      ]
    },
    {
      "cell_type": "code",
      "execution_count": null,
      "metadata": {
        "colab": {
          "base_uri": "https://localhost:8080/",
          "height": 33
        },
        "id": "KE9MC88aT9Gi",
        "outputId": "888e0867-91a8-4e8c-e26a-b757c969715a"
      },
      "outputs": [
        {
          "data": {
            "text/plain": [
              "array([0.2422598 , 0.1101641 , 0.04450616, 0.99693044, 0.15207654])"
            ]
          },
          "execution_count": 26,
          "metadata": {},
          "output_type": "execute_result"
        }
      ],
      "source": [
        "x=np.random.rand(5)\n",
        "x"
      ]
    },
    {
      "cell_type": "markdown",
      "metadata": {
        "id": "irlRa5SybajX"
      },
      "source": [
        "Кроме `arange` есть еще функция `linspace`. Эта функция работает подобно `arange` только вместо шага нужно указать кол-во элементов массива."
      ]
    },
    {
      "cell_type": "code",
      "execution_count": null,
      "metadata": {
        "colab": {
          "base_uri": "https://localhost:8080/",
          "height": 33
        },
        "id": "cvOo-Lu8UVlN",
        "outputId": "5a0b5cd2-b671-4585-df94-8f0838295db5"
      },
      "outputs": [
        {
          "data": {
            "text/plain": [
              "array([ 1.,  9., 17., 25.])"
            ]
          },
          "execution_count": 27,
          "metadata": {},
          "output_type": "execute_result"
        }
      ],
      "source": [
        "x=np.linspace(start=1, stop=25, num=4)\n",
        "x"
      ]
    },
    {
      "cell_type": "markdown",
      "metadata": {
        "id": "co5EJMtYiYhm"
      },
      "source": [
        "Рассмотрим некоторые функции, которые применяются к каждому элементу массива."
      ]
    },
    {
      "cell_type": "code",
      "execution_count": null,
      "metadata": {
        "colab": {
          "base_uri": "https://localhost:8080/"
        },
        "id": "9vLIOXK_OIdQ",
        "outputId": "479eb870-fb5b-4e2a-ecc6-72a5efdc084b"
      },
      "outputs": [
        {
          "name": "stdout",
          "output_type": "stream",
          "text": [
            "[0 1 2 3 4 5 6 7 8 9]\n"
          ]
        }
      ],
      "source": [
        "k=np.arange(10)\n",
        "print(k)"
      ]
    },
    {
      "cell_type": "code",
      "execution_count": null,
      "metadata": {
        "colab": {
          "base_uri": "https://localhost:8080/"
        },
        "id": "nLcGtUPzlWhr",
        "outputId": "a1ddebb8-1fef-4035-9d05-af043f875401"
      },
      "outputs": [
        {
          "data": {
            "text/plain": [
              "array([ 0.00000000e+00,  9.51056516e-01,  5.87785252e-01, -5.87785252e-01,\n",
              "       -9.51056516e-01, -2.44929360e-16,  9.51056516e-01,  5.87785252e-01,\n",
              "       -5.87785252e-01, -9.51056516e-01])"
            ]
          },
          "execution_count": 17,
          "metadata": {},
          "output_type": "execute_result"
        }
      ],
      "source": [
        "k=np.arange(10)\n",
        "x=np.sin(2*np.pi*0.2*k)\n",
        "x"
      ]
    },
    {
      "cell_type": "code",
      "execution_count": null,
      "metadata": {
        "colab": {
          "base_uri": "https://localhost:8080/"
        },
        "id": "cOitEFWFljxk",
        "outputId": "7a8ced55-45bc-48dc-cfad-6c65170f2cab"
      },
      "outputs": [
        {
          "data": {
            "text/plain": [
              "array([ 1.        ,  0.30901699, -0.80901699, -0.80901699,  0.30901699,\n",
              "        1.        ,  0.30901699, -0.80901699, -0.80901699,  0.30901699])"
            ]
          },
          "execution_count": 7,
          "metadata": {},
          "output_type": "execute_result"
        }
      ],
      "source": [
        "k=np.arange(10)\n",
        "x=np.cos(2*np.pi*0.2*k)\n",
        "x"
      ]
    },
    {
      "cell_type": "code",
      "execution_count": null,
      "metadata": {
        "colab": {
          "base_uri": "https://localhost:8080/"
        },
        "id": "BeOIezsxFh02",
        "outputId": "4c2a65f9-3c8c-4f44-e3f3-dfb621681889"
      },
      "outputs": [
        {
          "data": {
            "text/plain": [
              "(1, 1j)"
            ]
          },
          "execution_count": 10,
          "metadata": {},
          "output_type": "execute_result"
        }
      ],
      "source": [
        "a=(1, 1j)\n",
        "a"
      ]
    },
    {
      "cell_type": "code",
      "execution_count": null,
      "metadata": {
        "colab": {
          "base_uri": "https://localhost:8080/"
        },
        "id": "DPL9RB42FuHM",
        "outputId": "73d3ffec-fc78-43f9-8785-bb3e9d8aef4b"
      },
      "outputs": [
        {
          "data": {
            "text/plain": [
              "(1+1j)"
            ]
          },
          "execution_count": 12,
          "metadata": {},
          "output_type": "execute_result"
        }
      ],
      "source": [
        "a=1+1j\n",
        "a"
      ]
    },
    {
      "cell_type": "code",
      "execution_count": null,
      "metadata": {
        "colab": {
          "base_uri": "https://localhost:8080/"
        },
        "id": "h2cSBWHCln0b",
        "outputId": "a8f0e56f-b5df-46c4-85d0-77b7a8f7fe62"
      },
      "outputs": [
        {
          "data": {
            "text/plain": [
              "array([ 1.        +0.00000000e+00j,  0.30901699-9.51056516e-01j,\n",
              "       -0.80901699-5.87785252e-01j, -0.80901699+5.87785252e-01j,\n",
              "        0.30901699+9.51056516e-01j,  1.        +2.44929360e-16j,\n",
              "        0.30901699-9.51056516e-01j, -0.80901699-5.87785252e-01j,\n",
              "       -0.80901699+5.87785252e-01j,  0.30901699+9.51056516e-01j])"
            ]
          },
          "execution_count": 8,
          "metadata": {},
          "output_type": "execute_result"
        }
      ],
      "source": [
        "k=np.arange(10)\n",
        "x=np.exp(-1j*2*np.pi*0.2*k)\n",
        "x"
      ]
    },
    {
      "cell_type": "markdown",
      "metadata": {
        "id": "DRF3--28lffM"
      },
      "source": [
        "Полный список функций с полным описанием смотреть [здесь](http:\\\\https://numpy.org/doc/stable/reference/routines.math.html)."
      ]
    },
    {
      "cell_type": "markdown",
      "metadata": {
        "id": "qz0bV4NGVAE8"
      },
      "source": [
        "# Построение графиков сигналов"
      ]
    },
    {
      "cell_type": "code",
      "execution_count": null,
      "metadata": {
        "id": "FGKvmYehVE83"
      },
      "outputs": [],
      "source": [
        "import matplotlib.pyplot as plt"
      ]
    },
    {
      "cell_type": "code",
      "execution_count": null,
      "metadata": {
        "colab": {
          "base_uri": "https://localhost:8080/",
          "height": 405
        },
        "id": "TsT9MgbjVK4P",
        "outputId": "edc92aec-0e18-4357-cd04-0ac4014f3f65"
      },
      "outputs": [
        {
          "data": {
            "image/png": "[encoded data removed]",
            "text/plain": [
              "<Figure size 700x400 with 1 Axes>"
            ]
          },
          "metadata": {
            "needs_background": "light"
          },
          "output_type": "display_data"
        }
      ],
      "source": [
        "plt.figure(figsize=[7, 4], dpi=100)\n",
        "x=np.array([1,2,3,2,1])\n",
        "k=np.arange(x.size)\n",
        "plt.stem(k, x, use_line_collection=True)\n",
        "plt.xlabel(\"$k$\")\n",
        "plt.ylabel(\"$x[k]$\")\n",
        "plt.xticks(ticks=np.arange(x.size))\n",
        "plt.title(\"Сигнал x[k]\")\n",
        "plt.grid()\n",
        "plt.show()"
      ]
    },
    {
      "cell_type": "code",
      "execution_count": null,
      "metadata": {
        "colab": {
          "base_uri": "https://localhost:8080/",
          "height": 404
        },
        "id": "LFiT0mbV_6sF",
        "outputId": "fe956bc0-569d-45cf-f138-40e71c1f8660"
      },
      "outputs": [
        {
          "data": {
            "image/png": "[encoded data removed]",
            "text/plain": [
              "<Figure size 700x400 with 1 Axes>"
            ]
          },
          "metadata": {
            "needs_background": "light"
          },
          "output_type": "display_data"
        }
      ],
      "source": [
        "plt.figure(figsize=[7, 4], dpi=100)\n",
        "plt.plot(k, x, '.-')\n",
        "plt.xlabel(\"$t$\")\n",
        "plt.ylabel(\"$x(t)$\")\n",
        "plt.xticks(ticks=np.arange(x.size))\n",
        "plt.title(\"Сигнал x(t)\")\n",
        "plt.grid()\n",
        "plt.show()"
      ]
    },
    {
      "cell_type": "code",
      "execution_count": null,
      "metadata": {
        "id": "wQ7fHJLV_6sF"
      },
      "outputs": [],
      "source": [
        "import numpy as np\n",
        "import matplotlib.pyplot as plt\n",
        "from scipy.fft import *\n",
        "from scipy.signal import *\n",
        "np.exp(2*np.pi)"
      ]
    }
  ],
  "metadata": {
    "colab": {
      "collapsed_sections": [],
      "name": "Introduction to DSP lab.ipynb",
      "provenance": []
    },
    "kernelspec": {
      "display_name": "Python 3.8.10 64-bit",
      "language": "python",
      "name": "python3"
    },
    "language_info": {
      "codemirror_mode": {
        "name": "ipython",
        "version": 3
      },
      "file_extension": ".py",
      "mimetype": "text/x-python",
      "name": "python",
      "nbconvert_exporter": "python",
      "pygments_lexer": "ipython3",
      "version": "3.8.10"
    },
    "vscode": {
      "interpreter": {
        "hash": "e7370f93d1d0cde622a1f8e1c04877d8463912d04d973331ad4851f04de6915a"
      }
    }
  },
  "nbformat": 4,
  "nbformat_minor": 0
}
